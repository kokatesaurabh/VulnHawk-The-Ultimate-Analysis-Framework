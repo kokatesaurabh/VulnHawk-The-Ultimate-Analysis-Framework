{
 "cells": [
  {
   "cell_type": "code",
   "execution_count": 2,
   "id": "4ea705fd-9dfb-4773-86c5-b70d7bdb1871",
   "metadata": {},
   "outputs": [],
   "source": [
    "import pandas as pd\n",
    "import seaborn as sns\n",
    "import matplotlib.pyplot as plt\n",
    "from sklearn.model_selection import train_test_split\n",
    "from sklearn.ensemble import RandomForestClassifier\n",
    "from sklearn.metrics import accuracy_score, classification_report\n",
    "import joblib"
   ]
  },
  {
   "cell_type": "code",
   "execution_count": 3,
   "id": "22732164-9878-4fde-a15c-50ed353ffa1c",
   "metadata": {},
   "outputs": [
    {
     "data": {
      "text/html": [
       "<div>\n",
       "<style scoped>\n",
       "    .dataframe tbody tr th:only-of-type {\n",
       "        vertical-align: middle;\n",
       "    }\n",
       "\n",
       "    .dataframe tbody tr th {\n",
       "        vertical-align: top;\n",
       "    }\n",
       "\n",
       "    .dataframe thead th {\n",
       "        text-align: right;\n",
       "    }\n",
       "</style>\n",
       "<table border=\"1\" class=\"dataframe\">\n",
       "  <thead>\n",
       "    <tr style=\"text-align: right;\">\n",
       "      <th></th>\n",
       "      <th>apk_size</th>\n",
       "      <th>dex_size</th>\n",
       "      <th>vercode</th>\n",
       "      <th>scan_date</th>\n",
       "      <th>activities_count</th>\n",
       "      <th>services_count</th>\n",
       "      <th>certificate_expired</th>\n",
       "      <th>suspicious_api_calls</th>\n",
       "      <th>sha256</th>\n",
       "      <th>markets</th>\n",
       "      <th>anomaly</th>\n",
       "      <th>pkg_name</th>\n",
       "      <th>sha1</th>\n",
       "      <th>md5</th>\n",
       "    </tr>\n",
       "  </thead>\n",
       "  <tbody>\n",
       "    <tr>\n",
       "      <th>0</th>\n",
       "      <td>10386469</td>\n",
       "      <td>4765888</td>\n",
       "      <td>121.0</td>\n",
       "      <td>15-06-2016 15:26</td>\n",
       "      <td>60</td>\n",
       "      <td>3</td>\n",
       "      <td>False</td>\n",
       "      <td>8</td>\n",
       "      <td>0000003B455A6C7AF837EF90F2EAFFD856E3B5CF49F5E2...</td>\n",
       "      <td>anzhi</td>\n",
       "      <td>0</td>\n",
       "      <td>com.zte.bamachaye</td>\n",
       "      <td>9C14D537A7ADB4CFC43D291352F73E05E0CCDD4A</td>\n",
       "      <td>3EDFC78AB53521942798AD551027D04F</td>\n",
       "    </tr>\n",
       "    <tr>\n",
       "      <th>1</th>\n",
       "      <td>3537486</td>\n",
       "      <td>3170096</td>\n",
       "      <td>16.0</td>\n",
       "      <td>20-11-2016 10:26</td>\n",
       "      <td>88</td>\n",
       "      <td>16</td>\n",
       "      <td>False</td>\n",
       "      <td>8</td>\n",
       "      <td>0000014A634DB98F85038B833A8DFC50D5FB13A464E0B2...</td>\n",
       "      <td>PlayDrone</td>\n",
       "      <td>0</td>\n",
       "      <td>com.tanersenel.onlinetvizle</td>\n",
       "      <td>C3EBEC52C9388BF67479FF1385A56C59B3E39E81</td>\n",
       "      <td>0A146750FB447CF3859C9CB659AB04F1</td>\n",
       "    </tr>\n",
       "    <tr>\n",
       "      <th>2</th>\n",
       "      <td>52469861</td>\n",
       "      <td>9201656</td>\n",
       "      <td>1206145.0</td>\n",
       "      <td>17-03-2021 08:02</td>\n",
       "      <td>59</td>\n",
       "      <td>3</td>\n",
       "      <td>False</td>\n",
       "      <td>3</td>\n",
       "      <td>000001A94F46A0C3DDA514E1F24E675648835BBA5EF3C3...</td>\n",
       "      <td>play.google.com</td>\n",
       "      <td>0</td>\n",
       "      <td>com.firstchoice.myfirstchoice</td>\n",
       "      <td>C0444D784685EFE5F6D9F28683B24B5873E509CB</td>\n",
       "      <td>EC82771AE018B93AD784A1FD2B625216</td>\n",
       "    </tr>\n",
       "  </tbody>\n",
       "</table>\n",
       "</div>"
      ],
      "text/plain": [
       "   apk_size  dex_size    vercode         scan_date  activities_count  \\\n",
       "0  10386469   4765888      121.0  15-06-2016 15:26                60   \n",
       "1   3537486   3170096       16.0  20-11-2016 10:26                88   \n",
       "2  52469861   9201656  1206145.0  17-03-2021 08:02                59   \n",
       "\n",
       "   services_count  certificate_expired  suspicious_api_calls  \\\n",
       "0               3                False                     8   \n",
       "1              16                False                     8   \n",
       "2               3                False                     3   \n",
       "\n",
       "                                              sha256          markets  \\\n",
       "0  0000003B455A6C7AF837EF90F2EAFFD856E3B5CF49F5E2...            anzhi   \n",
       "1  0000014A634DB98F85038B833A8DFC50D5FB13A464E0B2...        PlayDrone   \n",
       "2  000001A94F46A0C3DDA514E1F24E675648835BBA5EF3C3...  play.google.com   \n",
       "\n",
       "   anomaly                       pkg_name  \\\n",
       "0        0              com.zte.bamachaye   \n",
       "1        0    com.tanersenel.onlinetvizle   \n",
       "2        0  com.firstchoice.myfirstchoice   \n",
       "\n",
       "                                       sha1                               md5  \n",
       "0  9C14D537A7ADB4CFC43D291352F73E05E0CCDD4A  3EDFC78AB53521942798AD551027D04F  \n",
       "1  C3EBEC52C9388BF67479FF1385A56C59B3E39E81  0A146750FB447CF3859C9CB659AB04F1  \n",
       "2  C0444D784685EFE5F6D9F28683B24B5873E509CB  EC82771AE018B93AD784A1FD2B625216  "
      ]
     },
     "execution_count": 3,
     "metadata": {},
     "output_type": "execute_result"
    }
   ],
   "source": [
    "dataset = pd.read_csv(\"synthetic_apk_dataset.csv\")\n",
    "dataset.head(3)"
   ]
  },
  {
   "cell_type": "code",
   "execution_count": 4,
   "id": "3dc98845-de30-4f2d-a17d-82da8113be12",
   "metadata": {},
   "outputs": [
    {
     "data": {
      "text/plain": [
       "(1048575, 14)"
      ]
     },
     "execution_count": 4,
     "metadata": {},
     "output_type": "execute_result"
    }
   ],
   "source": [
    "dataset.shape"
   ]
  },
  {
   "cell_type": "code",
   "execution_count": 5,
   "id": "3ccc37de-502a-4a78-afdd-d7278086b1bb",
   "metadata": {},
   "outputs": [
    {
     "data": {
      "text/plain": [
       "<bound method DataFrame.isnull of          apk_size  dex_size    vercode         scan_date  activities_count  \\\n",
       "0        10386469   4765888      121.0  15-06-2016 15:26                60   \n",
       "1         3537486   3170096       16.0  20-11-2016 10:26                88   \n",
       "2        52469861   9201656  1206145.0  17-03-2021 08:02                59   \n",
       "3         4300370   4211104    10000.0  03-12-2017 06:50                79   \n",
       "4        12958838   7813520   400125.0  25-06-2019 08:55                60   \n",
       "...           ...       ...        ...               ...               ...   \n",
       "1048570   5893778   8274352     2024.0  16-12-2019 03:40                84   \n",
       "1048571  32851393   7465932   712000.0  26-09-2021 10:41                78   \n",
       "1048572  35508162   5110276        1.0  13-01-2022 15:46                49   \n",
       "1048573   3941032   8211512        8.0  19-06-2021 07:43                87   \n",
       "1048574  39124696   6879416      139.0  03-05-2022 09:09                46   \n",
       "\n",
       "         services_count  certificate_expired  suspicious_api_calls  \\\n",
       "0                     3                False                     8   \n",
       "1                    16                False                     8   \n",
       "2                     3                False                     3   \n",
       "3                     6                False                     2   \n",
       "4                     5                 True                     5   \n",
       "...                 ...                  ...                   ...   \n",
       "1048570              13                False                     9   \n",
       "1048571              10                False                     3   \n",
       "1048572              12                False                     6   \n",
       "1048573              10                 True                     8   \n",
       "1048574              10                False                     8   \n",
       "\n",
       "                                                    sha256          markets  \\\n",
       "0        0000003B455A6C7AF837EF90F2EAFFD856E3B5CF49F5E2...            anzhi   \n",
       "1        0000014A634DB98F85038B833A8DFC50D5FB13A464E0B2...        PlayDrone   \n",
       "2        000001A94F46A0C3DDA514E1F24E675648835BBA5EF3C3...  play.google.com   \n",
       "3        000002B63FAD4B030787F6DE4081DC1E12325026EB7DDA...  play.google.com   \n",
       "4        000003D3981DC548A772A30D688F424CFB88561A63A2DD...  play.google.com   \n",
       "...                                                    ...              ...   \n",
       "1048570  0ACA4888BE6F329988C0E228A1B5EDC32CF5277746991E...  play.google.com   \n",
       "1048571  0ACA48A86FA0F094FCCFBAA9F441932735EA96822B74C2...  play.google.com   \n",
       "1048572  0ACA49C86AC03950C9A9D8F131D1B52E26A89F22344F72...  play.google.com   \n",
       "1048573  0ACA4AD267CD8529BACC4D3B74C72053E4438411C736BA...  play.google.com   \n",
       "1048574  0ACA4B29AC9F4CC4B34B3909282160A1BA73FDD93F37C4...  play.google.com   \n",
       "\n",
       "         anomaly                                pkg_name  \\\n",
       "0              0                       com.zte.bamachaye   \n",
       "1              0             com.tanersenel.onlinetvizle   \n",
       "2              0           com.firstchoice.myfirstchoice   \n",
       "3              0               com.deperu.sitiosarequipa   \n",
       "4              0         com.safetravels.safetravelsmain   \n",
       "...          ...                                     ...   \n",
       "1048570        1                         com.dfs.android   \n",
       "1048571        0           com.trainerize.stretchwithlex   \n",
       "1048572        0              com.games.puzzlesquadmania   \n",
       "1048573        0  com.englishtoHebrew.languagestranslate   \n",
       "1048574        0               com.mstoremv.riomarrecife   \n",
       "\n",
       "                                             sha1  \\\n",
       "0        9C14D537A7ADB4CFC43D291352F73E05E0CCDD4A   \n",
       "1        C3EBEC52C9388BF67479FF1385A56C59B3E39E81   \n",
       "2        C0444D784685EFE5F6D9F28683B24B5873E509CB   \n",
       "3        DD723B32EDD9F70AADBD66846621967157DF9BD4   \n",
       "4        6AE9F138F7E0C63E5D58CC7E82FB05A50F041637   \n",
       "...                                           ...   \n",
       "1048570  52EDB941A2516B87832E3D100981D90EB389BA79   \n",
       "1048571  C5C9F6E52F7DDC5F6CE921BAA87B3F8EE15605E0   \n",
       "1048572  B91322CA0D78B95D346E9C1A66945D6537DAF7A6   \n",
       "1048573  9DE09FE772B6AAFA25675FF5CEB7BA156B8971ED   \n",
       "1048574  32C9D5B9E4A41070D0D629B2E6D8B8BFCEFE47DA   \n",
       "\n",
       "                                      md5  \n",
       "0        3EDFC78AB53521942798AD551027D04F  \n",
       "1        0A146750FB447CF3859C9CB659AB04F1  \n",
       "2        EC82771AE018B93AD784A1FD2B625216  \n",
       "3        985E601C17F0A9346590AE92A5AD664E  \n",
       "4        F4789023733E41EE883208ACBC956020  \n",
       "...                                   ...  \n",
       "1048570  6B448505450482F7D7FB6A9751C88BE0  \n",
       "1048571  37575B3BFA4B0E1AB47B906F5E9A1372  \n",
       "1048572  D7E6EBFB48D8005A45B224630B9A01A3  \n",
       "1048573  355A461E9CB4674B3A37230D3634F403  \n",
       "1048574  462B2BFFEC97F6D23A1C9542CCB9BEE4  \n",
       "\n",
       "[1048575 rows x 14 columns]>"
      ]
     },
     "execution_count": 5,
     "metadata": {},
     "output_type": "execute_result"
    }
   ],
   "source": [
    "dataset.isnull"
   ]
  },
  {
   "cell_type": "code",
   "execution_count": 6,
   "id": "07eb07e1-8d04-4044-a163-8ac02ba71b65",
   "metadata": {},
   "outputs": [
    {
     "data": {
      "text/plain": [
       "apk_size                    0\n",
       "dex_size                    0\n",
       "vercode                   135\n",
       "scan_date               12845\n",
       "activities_count            0\n",
       "services_count              0\n",
       "certificate_expired         0\n",
       "suspicious_api_calls        0\n",
       "sha256                      0\n",
       "markets                     0\n",
       "anomaly                     0\n",
       "pkg_name                    0\n",
       "sha1                       16\n",
       "md5                        16\n",
       "dtype: int64"
      ]
     },
     "execution_count": 6,
     "metadata": {},
     "output_type": "execute_result"
    }
   ],
   "source": [
    "dataset.isnull().sum()"
   ]
  },
  {
   "cell_type": "code",
   "execution_count": 7,
   "id": "5fa97f82-e8ac-4c8f-a912-caa8aa645aed",
   "metadata": {},
   "outputs": [
    {
     "data": {
      "text/plain": [
       "0.0886373002816748"
      ]
     },
     "execution_count": 7,
     "metadata": {},
     "output_type": "execute_result"
    }
   ],
   "source": [
    "dataset.isnull().sum().sum()/(dataset.shape[0]*dataset.shape[1])*100"
   ]
  },
  {
   "cell_type": "code",
   "execution_count": 8,
   "id": "9b7ffa99-1ab9-40be-aedd-03d3f79da6b1",
   "metadata": {},
   "outputs": [
    {
     "data": {
      "text/plain": [
       "apk_size                1048575\n",
       "dex_size                1048575\n",
       "vercode                 1048440\n",
       "scan_date               1035730\n",
       "activities_count        1048575\n",
       "services_count          1048575\n",
       "certificate_expired     1048575\n",
       "suspicious_api_calls    1048575\n",
       "sha256                  1048575\n",
       "markets                 1048575\n",
       "anomaly                 1048575\n",
       "pkg_name                1048575\n",
       "sha1                    1048559\n",
       "md5                     1048559\n",
       "dtype: int64"
      ]
     },
     "execution_count": 8,
     "metadata": {},
     "output_type": "execute_result"
    }
   ],
   "source": [
    "dataset.notnull().sum()"
   ]
  },
  {
   "cell_type": "code",
   "execution_count": 9,
   "id": "1afa06cd-af2b-414d-9d94-a6b56dcae0eb",
   "metadata": {},
   "outputs": [
    {
     "data": {
      "image/png": "[encoded data removed]",
      "text/plain": [
       "<Figure size 640x480 with 2 Axes>"
      ]
     },
     "metadata": {},
     "output_type": "display_data"
    }
   ],
   "source": [
    "sns.heatmap(dataset.isnull())\n",
    "plt.show()"
   ]
  },
  {
   "cell_type": "code",
   "execution_count": 10,
   "id": "14134ad6-520c-484a-a9d1-c3896baf2263",
   "metadata": {},
   "outputs": [
    {
     "name": "stdout",
     "output_type": "stream",
     "text": [
      "<class 'pandas.core.frame.DataFrame'>\n",
      "RangeIndex: 1048575 entries, 0 to 1048574\n",
      "Data columns (total 14 columns):\n",
      " #   Column                Non-Null Count    Dtype  \n",
      "---  ------                --------------    -----  \n",
      " 0   apk_size              1048575 non-null  int64  \n",
      " 1   dex_size              1048575 non-null  int64  \n",
      " 2   vercode               1048440 non-null  float64\n",
      " 3   scan_date             1035730 non-null  object \n",
      " 4   activities_count      1048575 non-null  int64  \n",
      " 5   services_count        1048575 non-null  int64  \n",
      " 6   certificate_expired   1048575 non-null  bool   \n",
      " 7   suspicious_api_calls  1048575 non-null  int64  \n",
      " 8   sha256                1048575 non-null  object \n",
      " 9   markets               1048575 non-null  object \n",
      " 10  anomaly               1048575 non-null  int64  \n",
      " 11  pkg_name              1048575 non-null  object \n",
      " 12  sha1                  1048559 non-null  object \n",
      " 13  md5                   1048559 non-null  object \n",
      "dtypes: bool(1), float64(1), int64(6), object(6)\n",
      "memory usage: 105.0+ MB\n"
     ]
    }
   ],
   "source": [
    "dataset.info()"
   ]
  },
  {
   "cell_type": "code",
   "execution_count": 12,
   "id": "bc1bf83c-fba0-4fae-9a3a-14d69cccadf3",
   "metadata": {},
   "outputs": [
    {
     "name": "stderr",
     "output_type": "stream",
     "text": [
      "C:\\Users\\karan\\AppData\\Local\\Temp\\ipykernel_1044\\3277947646.py:1: FutureWarning: A value is trying to be set on a copy of a DataFrame or Series through chained assignment using an inplace method.\n",
      "The behavior will change in pandas 3.0. This inplace method will never work because the intermediate object on which we are setting values always behaves as a copy.\n",
      "\n",
      "For example, when doing 'df[col].method(value, inplace=True)', try using 'df.method({col: value}, inplace=True)' or df[col] = df[col].method(value) instead, to perform the operation inplace on the original object.\n",
      "\n",
      "\n",
      "  dataset[\"scan_date\"].fillna(dataset[\"scan_date\"].mode()[0],inplace = True)\n"
     ]
    }
   ],
   "source": [
    "dataset[\"scan_date\"].fillna(dataset[\"scan_date\"].mode()[0],inplace = True)"
   ]
  },
  {
   "cell_type": "code",
   "execution_count": 13,
   "id": "06a5806e-03cd-4c41-8dfb-3410b4ede9e3",
   "metadata": {},
   "outputs": [
    {
     "name": "stdout",
     "output_type": "stream",
     "text": [
      "<class 'pandas.core.frame.DataFrame'>\n",
      "RangeIndex: 1048575 entries, 0 to 1048574\n",
      "Data columns (total 14 columns):\n",
      " #   Column                Non-Null Count    Dtype  \n",
      "---  ------                --------------    -----  \n",
      " 0   apk_size              1048575 non-null  int64  \n",
      " 1   dex_size              1048575 non-null  int64  \n",
      " 2   vercode               1048440 non-null  float64\n",
      " 3   scan_date             1048575 non-null  object \n",
      " 4   activities_count      1048575 non-null  int64  \n",
      " 5   services_count        1048575 non-null  int64  \n",
      " 6   certificate_expired   1048575 non-null  bool   \n",
      " 7   suspicious_api_calls  1048575 non-null  int64  \n",
      " 8   sha256                1048575 non-null  object \n",
      " 9   markets               1048575 non-null  object \n",
      " 10  anomaly               1048575 non-null  int64  \n",
      " 11  pkg_name              1048575 non-null  object \n",
      " 12  sha1                  1048559 non-null  object \n",
      " 13  md5                   1048559 non-null  object \n",
      "dtypes: bool(1), float64(1), int64(6), object(6)\n",
      "memory usage: 105.0+ MB\n"
     ]
    }
   ],
   "source": [
    "dataset.info()"
   ]
  },
  {
   "cell_type": "code",
   "execution_count": 14,
   "id": "78a1f7d7-426a-4b07-9aa9-998450b283bc",
   "metadata": {},
   "outputs": [
    {
     "data": {
      "text/plain": [
       "apk_size                  0\n",
       "dex_size                  0\n",
       "vercode                 135\n",
       "scan_date                 0\n",
       "activities_count          0\n",
       "services_count            0\n",
       "certificate_expired       0\n",
       "suspicious_api_calls      0\n",
       "sha256                    0\n",
       "markets                   0\n",
       "anomaly                   0\n",
       "pkg_name                  0\n",
       "sha1                     16\n",
       "md5                      16\n",
       "dtype: int64"
      ]
     },
     "execution_count": 14,
     "metadata": {},
     "output_type": "execute_result"
    }
   ],
   "source": [
    "dataset.isnull().sum()"
   ]
  },
  {
   "cell_type": "code",
   "execution_count": 15,
   "id": "bb69bad3-55f7-4c2e-b1a9-173880881d83",
   "metadata": {},
   "outputs": [
    {
     "name": "stderr",
     "output_type": "stream",
     "text": [
      "C:\\Users\\karan\\AppData\\Local\\Temp\\ipykernel_1044\\2047408719.py:1: FutureWarning: A value is trying to be set on a copy of a DataFrame or Series through chained assignment using an inplace method.\n",
      "The behavior will change in pandas 3.0. This inplace method will never work because the intermediate object on which we are setting values always behaves as a copy.\n",
      "\n",
      "For example, when doing 'df[col].method(value, inplace=True)', try using 'df.method({col: value}, inplace=True)' or df[col] = df[col].method(value) instead, to perform the operation inplace on the original object.\n",
      "\n",
      "\n",
      "  dataset[\"sha1\"].fillna(dataset[\"sha1\"].mode()[0],inplace = True)\n"
     ]
    }
   ],
   "source": [
    "dataset[\"sha1\"].fillna(dataset[\"sha1\"].mode()[0],inplace = True)"
   ]
  },
  {
   "cell_type": "code",
   "execution_count": 16,
   "id": "65d98e1f-efcf-42a2-a251-9717a16de45c",
   "metadata": {},
   "outputs": [
    {
     "name": "stderr",
     "output_type": "stream",
     "text": [
      "C:\\Users\\karan\\AppData\\Local\\Temp\\ipykernel_1044\\3646746254.py:1: FutureWarning: A value is trying to be set on a copy of a DataFrame or Series through chained assignment using an inplace method.\n",
      "The behavior will change in pandas 3.0. This inplace method will never work because the intermediate object on which we are setting values always behaves as a copy.\n",
      "\n",
      "For example, when doing 'df[col].method(value, inplace=True)', try using 'df.method({col: value}, inplace=True)' or df[col] = df[col].method(value) instead, to perform the operation inplace on the original object.\n",
      "\n",
      "\n",
      "  dataset[\"md5\"].fillna(dataset[\"md5\"].mode()[0],inplace = True)\n"
     ]
    }
   ],
   "source": [
    "dataset[\"md5\"].fillna(dataset[\"md5\"].mode()[0],inplace = True)"
   ]
  },
  {
   "cell_type": "code",
   "execution_count": 17,
   "id": "62410030-8ae2-469e-8c40-96506d5c619d",
   "metadata": {},
   "outputs": [
    {
     "data": {
      "text/plain": [
       "apk_size                  0\n",
       "dex_size                  0\n",
       "vercode                 135\n",
       "scan_date                 0\n",
       "activities_count          0\n",
       "services_count            0\n",
       "certificate_expired       0\n",
       "suspicious_api_calls      0\n",
       "sha256                    0\n",
       "markets                   0\n",
       "anomaly                   0\n",
       "pkg_name                  0\n",
       "sha1                      0\n",
       "md5                       0\n",
       "dtype: int64"
      ]
     },
     "execution_count": 17,
     "metadata": {},
     "output_type": "execute_result"
    }
   ],
   "source": [
    "dataset.isnull().sum()"
   ]
  },
  {
   "cell_type": "code",
   "execution_count": 18,
   "id": "8e2dfa22-9e87-4db3-84fd-7746d6067908",
   "metadata": {},
   "outputs": [
    {
     "data": {
      "text/plain": [
       "<bound method DataFrame.info of          apk_size  dex_size    vercode         scan_date  activities_count  \\\n",
       "0        10386469   4765888      121.0  15-06-2016 15:26                60   \n",
       "1         3537486   3170096       16.0  20-11-2016 10:26                88   \n",
       "2        52469861   9201656  1206145.0  17-03-2021 08:02                59   \n",
       "3         4300370   4211104    10000.0  03-12-2017 06:50                79   \n",
       "4        12958838   7813520   400125.0  25-06-2019 08:55                60   \n",
       "...           ...       ...        ...               ...               ...   \n",
       "1048570   5893778   8274352     2024.0  16-12-2019 03:40                84   \n",
       "1048571  32851393   7465932   712000.0  26-09-2021 10:41                78   \n",
       "1048572  35508162   5110276        1.0  13-01-2022 15:46                49   \n",
       "1048573   3941032   8211512        8.0  19-06-2021 07:43                87   \n",
       "1048574  39124696   6879416      139.0  03-05-2022 09:09                46   \n",
       "\n",
       "         services_count  certificate_expired  suspicious_api_calls  \\\n",
       "0                     3                False                     8   \n",
       "1                    16                False                     8   \n",
       "2                     3                False                     3   \n",
       "3                     6                False                     2   \n",
       "4                     5                 True                     5   \n",
       "...                 ...                  ...                   ...   \n",
       "1048570              13                False                     9   \n",
       "1048571              10                False                     3   \n",
       "1048572              12                False                     6   \n",
       "1048573              10                 True                     8   \n",
       "1048574              10                False                     8   \n",
       "\n",
       "                                                    sha256          markets  \\\n",
       "0        0000003B455A6C7AF837EF90F2EAFFD856E3B5CF49F5E2...            anzhi   \n",
       "1        0000014A634DB98F85038B833A8DFC50D5FB13A464E0B2...        PlayDrone   \n",
       "2        000001A94F46A0C3DDA514E1F24E675648835BBA5EF3C3...  play.google.com   \n",
       "3        000002B63FAD4B030787F6DE4081DC1E12325026EB7DDA...  play.google.com   \n",
       "4        000003D3981DC548A772A30D688F424CFB88561A63A2DD...  play.google.com   \n",
       "...                                                    ...              ...   \n",
       "1048570  0ACA4888BE6F329988C0E228A1B5EDC32CF5277746991E...  play.google.com   \n",
       "1048571  0ACA48A86FA0F094FCCFBAA9F441932735EA96822B74C2...  play.google.com   \n",
       "1048572  0ACA49C86AC03950C9A9D8F131D1B52E26A89F22344F72...  play.google.com   \n",
       "1048573  0ACA4AD267CD8529BACC4D3B74C72053E4438411C736BA...  play.google.com   \n",
       "1048574  0ACA4B29AC9F4CC4B34B3909282160A1BA73FDD93F37C4...  play.google.com   \n",
       "\n",
       "         anomaly                                pkg_name  \\\n",
       "0              0                       com.zte.bamachaye   \n",
       "1              0             com.tanersenel.onlinetvizle   \n",
       "2              0           com.firstchoice.myfirstchoice   \n",
       "3              0               com.deperu.sitiosarequipa   \n",
       "4              0         com.safetravels.safetravelsmain   \n",
       "...          ...                                     ...   \n",
       "1048570        1                         com.dfs.android   \n",
       "1048571        0           com.trainerize.stretchwithlex   \n",
       "1048572        0              com.games.puzzlesquadmania   \n",
       "1048573        0  com.englishtoHebrew.languagestranslate   \n",
       "1048574        0               com.mstoremv.riomarrecife   \n",
       "\n",
       "                                             sha1  \\\n",
       "0        9C14D537A7ADB4CFC43D291352F73E05E0CCDD4A   \n",
       "1        C3EBEC52C9388BF67479FF1385A56C59B3E39E81   \n",
       "2        C0444D784685EFE5F6D9F28683B24B5873E509CB   \n",
       "3        DD723B32EDD9F70AADBD66846621967157DF9BD4   \n",
       "4        6AE9F138F7E0C63E5D58CC7E82FB05A50F041637   \n",
       "...                                           ...   \n",
       "1048570  52EDB941A2516B87832E3D100981D90EB389BA79   \n",
       "1048571  C5C9F6E52F7DDC5F6CE921BAA87B3F8EE15605E0   \n",
       "1048572  B91322CA0D78B95D346E9C1A66945D6537DAF7A6   \n",
       "1048573  9DE09FE772B6AAFA25675FF5CEB7BA156B8971ED   \n",
       "1048574  32C9D5B9E4A41070D0D629B2E6D8B8BFCEFE47DA   \n",
       "\n",
       "                                      md5  \n",
       "0        3EDFC78AB53521942798AD551027D04F  \n",
       "1        0A146750FB447CF3859C9CB659AB04F1  \n",
       "2        EC82771AE018B93AD784A1FD2B625216  \n",
       "3        985E601C17F0A9346590AE92A5AD664E  \n",
       "4        F4789023733E41EE883208ACBC956020  \n",
       "...                                   ...  \n",
       "1048570  6B448505450482F7D7FB6A9751C88BE0  \n",
       "1048571  37575B3BFA4B0E1AB47B906F5E9A1372  \n",
       "1048572  D7E6EBFB48D8005A45B224630B9A01A3  \n",
       "1048573  355A461E9CB4674B3A37230D3634F403  \n",
       "1048574  462B2BFFEC97F6D23A1C9542CCB9BEE4  \n",
       "\n",
       "[1048575 rows x 14 columns]>"
      ]
     },
     "execution_count": 18,
     "metadata": {},
     "output_type": "execute_result"
    }
   ],
   "source": [
    "dataset.info"
   ]
  },
  {
   "cell_type": "code",
   "execution_count": 19,
   "id": "4b4fc791-a7a9-4922-8df2-541e12ad3f90",
   "metadata": {},
   "outputs": [
    {
     "data": {
      "text/plain": [
       "Index(['vercode'], dtype='object')"
      ]
     },
     "execution_count": 19,
     "metadata": {},
     "output_type": "execute_result"
    }
   ],
   "source": [
    "dataset.select_dtypes(include = \"float64\").columns"
   ]
  },
  {
   "cell_type": "code",
   "execution_count": 20,
   "id": "194a004b-4dcb-4f4e-8e63-0138ca99aadd",
   "metadata": {},
   "outputs": [],
   "source": [
    "from sklearn.impute import SimpleImputer"
   ]
  },
  {
   "cell_type": "code",
   "execution_count": 21,
   "id": "38e3a640-5a28-46d4-b071-f40f4f536784",
   "metadata": {},
   "outputs": [
    {
     "data": {
      "text/plain": [
       "array([[1.210000e+02],\n",
       "       [1.600000e+01],\n",
       "       [1.206145e+06],\n",
       "       ...,\n",
       "       [1.000000e+00],\n",
       "       [8.000000e+00],\n",
       "       [1.390000e+02]])"
      ]
     },
     "execution_count": 21,
     "metadata": {},
     "output_type": "execute_result"
    }
   ],
   "source": [
    "si = SimpleImputer(strategy = \"mean\")\n",
    "si.fit_transform(dataset[[\"vercode\"]])"
   ]
  },
  {
   "cell_type": "code",
   "execution_count": 25,
   "id": "0024efe6-0f12-4b2c-ad12-25f55eea474a",
   "metadata": {},
   "outputs": [],
   "source": [
    "new_dataset=pd.DataFrame(columns=dataset.select_dtypes(include = \"float64\").columns)"
   ]
  },
  {
   "cell_type": "code",
   "execution_count": 26,
   "id": "8d59570f-8793-4b3e-a768-bf7e62e3c1cd",
   "metadata": {},
   "outputs": [
    {
     "data": {
      "text/plain": [
       "vercode    0\n",
       "dtype: int64"
      ]
     },
     "execution_count": 26,
     "metadata": {},
     "output_type": "execute_result"
    }
   ],
   "source": [
    "new_dataset.isnull().sum()"
   ]
  },
  {
   "cell_type": "code",
   "execution_count": 27,
   "id": "85e0b9c2-6b2a-404b-a542-c52517c6f9f0",
   "metadata": {},
   "outputs": [
    {
     "data": {
      "text/plain": [
       "Index(['apk_size', 'dex_size', 'vercode', 'scan_date', 'activities_count',\n",
       "       'services_count', 'certificate_expired', 'suspicious_api_calls',\n",
       "       'sha256', 'markets', 'anomaly', 'pkg_name', 'sha1', 'md5'],\n",
       "      dtype='object')"
      ]
     },
     "execution_count": 27,
     "metadata": {},
     "output_type": "execute_result"
    }
   ],
   "source": [
    "dataset.columns"
   ]
  },
  {
   "cell_type": "code",
   "execution_count": 28,
   "id": "0785d3c3-548d-459d-ab60-183096baada7",
   "metadata": {},
   "outputs": [
    {
     "data": {
      "text/plain": [
       "apk_size                  0\n",
       "dex_size                  0\n",
       "vercode                 135\n",
       "scan_date                 0\n",
       "activities_count          0\n",
       "services_count            0\n",
       "certificate_expired       0\n",
       "suspicious_api_calls      0\n",
       "sha256                    0\n",
       "markets                   0\n",
       "anomaly                   0\n",
       "pkg_name                  0\n",
       "sha1                      0\n",
       "md5                       0\n",
       "dtype: int64"
      ]
     },
     "execution_count": 28,
     "metadata": {},
     "output_type": "execute_result"
    }
   ],
   "source": [
    "dataset.isnull().sum()"
   ]
  },
  {
   "cell_type": "code",
   "execution_count": null,
   "id": "03c64e24-f505-4fe9-9578-7148dfdeac8f",
   "metadata": {},
   "outputs": [],
   "source": []
  },
  {
   "cell_type": "code",
   "execution_count": null,
   "id": "ceda4859-9c0b-4797-8700-7d7c3ed7204c",
   "metadata": {},
   "outputs": [],
   "source": []
  },
  {
   "cell_type": "code",
   "execution_count": null,
   "id": "56f49d0d-13fe-4cc9-ae5b-f23ad805d6a1",
   "metadata": {},
   "outputs": [],
   "source": []
  },
  {
   "cell_type": "code",
   "execution_count": null,
   "id": "8eb9b776-a2c5-4720-9801-d6903c3a550a",
   "metadata": {},
   "outputs": [],
   "source": []
  },
  {
   "cell_type": "code",
   "execution_count": null,
   "id": "210616e4-beef-423c-90db-51b0bf5867d3",
   "metadata": {},
   "outputs": [],
   "source": []
  },
  {
   "cell_type": "code",
   "execution_count": null,
   "id": "63afe827-19aa-41d9-b80c-a52649f23c78",
   "metadata": {},
   "outputs": [],
   "source": []
  },
  {
   "cell_type": "code",
   "execution_count": null,
   "id": "147bab1b-3dd1-4329-9362-006758202c47",
   "metadata": {},
   "outputs": [],
   "source": []
  },
  {
   "cell_type": "code",
   "execution_count": null,
   "id": "ef5449f1-3438-4293-95c9-47c25657cec8",
   "metadata": {},
   "outputs": [],
   "source": []
  }
 ],
 "metadata": {
  "kernelspec": {
   "display_name": "Python 3 (ipykernel)",
   "language": "python",
   "name": "python3"
  },
  "language_info": {
   "codemirror_mode": {
    "name": "ipython",
    "version": 3
   },
   "file_extension": ".py",
   "mimetype": "text/x-python",
   "name": "python",
   "nbconvert_exporter": "python",
   "pygments_lexer": "ipython3",
   "version": "3.11.0"
  }
 },
 "nbformat": 4,
 "nbformat_minor": 5
}
