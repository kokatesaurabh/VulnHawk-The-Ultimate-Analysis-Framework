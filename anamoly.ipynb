{
 "cells": [
  {
   "cell_type": "code",
   "execution_count": 1,
   "id": "4a77a357-c8c5-4b58-9ea6-7ab4426e9679",
   "metadata": {},
   "outputs": [],
   "source": [
    "import pandas as pd\n",
    "import numpy as np\n",
    "from datetime import datetime\n",
    "from sklearn.ensemble import IsolationForest\n",
    "from sklearn.preprocessing import StandardScaler\n",
    "from sklearn.impute import SimpleImputer\n",
    "from sklearn.model_selection import train_test_split\n",
    "from sklearn.metrics import accuracy_score, classification_report, confusion_matrix\n",
    "import seaborn as sns\n",
    "import matplotlib.pyplot as plt\n",
    "import joblib"
   ]
  },
  {
   "cell_type": "markdown",
   "id": "4e843615-dc90-430b-9061-92b03d5f0a46",
   "metadata": {},
   "source": [
    "# Loading and cleaning Dataset"
   ]
  },
  {
   "cell_type": "code",
   "execution_count": 2,
   "id": "4b3f00cd-5117-47d2-acfd-1dc27c1b451f",
   "metadata": {},
   "outputs": [
    {
     "data": {
      "text/html": [
       "<div>\n",
       "<style scoped>\n",
       "    .dataframe tbody tr th:only-of-type {\n",
       "        vertical-align: middle;\n",
       "    }\n",
       "\n",
       "    .dataframe tbody tr th {\n",
       "        vertical-align: top;\n",
       "    }\n",
       "\n",
       "    .dataframe thead th {\n",
       "        text-align: right;\n",
       "    }\n",
       "</style>\n",
       "<table border=\"1\" class=\"dataframe\">\n",
       "  <thead>\n",
       "    <tr style=\"text-align: right;\">\n",
       "      <th></th>\n",
       "      <th>apk_size</th>\n",
       "      <th>dex_size</th>\n",
       "      <th>vercode</th>\n",
       "      <th>scan_date</th>\n",
       "      <th>activities_count</th>\n",
       "      <th>services_count</th>\n",
       "      <th>certificate_expired</th>\n",
       "      <th>suspicious_api_calls</th>\n",
       "      <th>sha256</th>\n",
       "      <th>markets</th>\n",
       "      <th>anomaly</th>\n",
       "      <th>pkg_name</th>\n",
       "      <th>sha1</th>\n",
       "      <th>md5</th>\n",
       "      <th>permissions_count</th>\n",
       "      <th>dangerous_permissions_count</th>\n",
       "    </tr>\n",
       "  </thead>\n",
       "  <tbody>\n",
       "    <tr>\n",
       "      <th>0</th>\n",
       "      <td>10386469</td>\n",
       "      <td>4765888</td>\n",
       "      <td>121.0</td>\n",
       "      <td>15-06-2016 15:26</td>\n",
       "      <td>60</td>\n",
       "      <td>3</td>\n",
       "      <td>False</td>\n",
       "      <td>8</td>\n",
       "      <td>0000003B455A6C7AF837EF90F2EAFFD856E3B5CF49F5E2...</td>\n",
       "      <td>anzhi</td>\n",
       "      <td>0</td>\n",
       "      <td>com.zte.bamachaye</td>\n",
       "      <td>9C14D537A7ADB4CFC43D291352F73E05E0CCDD4A</td>\n",
       "      <td>3EDFC78AB53521942798AD551027D04F</td>\n",
       "      <td>27</td>\n",
       "      <td>4</td>\n",
       "    </tr>\n",
       "    <tr>\n",
       "      <th>1</th>\n",
       "      <td>3537486</td>\n",
       "      <td>3170096</td>\n",
       "      <td>16.0</td>\n",
       "      <td>20-11-2016 10:26</td>\n",
       "      <td>88</td>\n",
       "      <td>16</td>\n",
       "      <td>False</td>\n",
       "      <td>8</td>\n",
       "      <td>0000014A634DB98F85038B833A8DFC50D5FB13A464E0B2...</td>\n",
       "      <td>PlayDrone</td>\n",
       "      <td>0</td>\n",
       "      <td>com.tanersenel.onlinetvizle</td>\n",
       "      <td>C3EBEC52C9388BF67479FF1385A56C59B3E39E81</td>\n",
       "      <td>0A146750FB447CF3859C9CB659AB04F1</td>\n",
       "      <td>30</td>\n",
       "      <td>7</td>\n",
       "    </tr>\n",
       "    <tr>\n",
       "      <th>2</th>\n",
       "      <td>52469861</td>\n",
       "      <td>9201656</td>\n",
       "      <td>1206145.0</td>\n",
       "      <td>17-03-2021 08:02</td>\n",
       "      <td>59</td>\n",
       "      <td>3</td>\n",
       "      <td>False</td>\n",
       "      <td>3</td>\n",
       "      <td>000001A94F46A0C3DDA514E1F24E675648835BBA5EF3C3...</td>\n",
       "      <td>play.google.com</td>\n",
       "      <td>1</td>\n",
       "      <td>com.firstchoice.myfirstchoice</td>\n",
       "      <td>C0444D784685EFE5F6D9F28683B24B5873E509CB</td>\n",
       "      <td>EC82771AE018B93AD784A1FD2B625216</td>\n",
       "      <td>46</td>\n",
       "      <td>4</td>\n",
       "    </tr>\n",
       "  </tbody>\n",
       "</table>\n",
       "</div>"
      ],
      "text/plain": [
       "   apk_size  dex_size    vercode         scan_date  activities_count  \\\n",
       "0  10386469   4765888      121.0  15-06-2016 15:26                60   \n",
       "1   3537486   3170096       16.0  20-11-2016 10:26                88   \n",
       "2  52469861   9201656  1206145.0  17-03-2021 08:02                59   \n",
       "\n",
       "   services_count  certificate_expired  suspicious_api_calls  \\\n",
       "0               3                False                     8   \n",
       "1              16                False                     8   \n",
       "2               3                False                     3   \n",
       "\n",
       "                                              sha256          markets  \\\n",
       "0  0000003B455A6C7AF837EF90F2EAFFD856E3B5CF49F5E2...            anzhi   \n",
       "1  0000014A634DB98F85038B833A8DFC50D5FB13A464E0B2...        PlayDrone   \n",
       "2  000001A94F46A0C3DDA514E1F24E675648835BBA5EF3C3...  play.google.com   \n",
       "\n",
       "   anomaly                       pkg_name  \\\n",
       "0        0              com.zte.bamachaye   \n",
       "1        0    com.tanersenel.onlinetvizle   \n",
       "2        1  com.firstchoice.myfirstchoice   \n",
       "\n",
       "                                       sha1                               md5  \\\n",
       "0  9C14D537A7ADB4CFC43D291352F73E05E0CCDD4A  3EDFC78AB53521942798AD551027D04F   \n",
       "1  C3EBEC52C9388BF67479FF1385A56C59B3E39E81  0A146750FB447CF3859C9CB659AB04F1   \n",
       "2  C0444D784685EFE5F6D9F28683B24B5873E509CB  EC82771AE018B93AD784A1FD2B625216   \n",
       "\n",
       "   permissions_count  dangerous_permissions_count  \n",
       "0                 27                            4  \n",
       "1                 30                            7  \n",
       "2                 46                            4  "
      ]
     },
     "execution_count": 2,
     "metadata": {},
     "output_type": "execute_result"
    }
   ],
   "source": [
    "df = pd.read_csv(\"updated_synthetic_apk_dataset.csv\")\n",
    "df.head(3)"
   ]
  },
  {
   "cell_type": "code",
   "execution_count": 3,
   "id": "05a49fbb-52b5-46e9-a59f-6d9dc98c1807",
   "metadata": {},
   "outputs": [
    {
     "data": {
      "text/plain": [
       "(1048575, 16)"
      ]
     },
     "execution_count": 3,
     "metadata": {},
     "output_type": "execute_result"
    }
   ],
   "source": [
    "df.shape"
   ]
  },
  {
   "cell_type": "code",
   "execution_count": 4,
   "id": "699a5fce-1ebb-4fb7-9850-8a73daa179c2",
   "metadata": {},
   "outputs": [
    {
     "data": {
      "text/plain": [
       "apk_size                           0\n",
       "dex_size                           0\n",
       "vercode                          135\n",
       "scan_date                      12845\n",
       "activities_count                   0\n",
       "services_count                     0\n",
       "certificate_expired                0\n",
       "suspicious_api_calls               0\n",
       "sha256                             0\n",
       "markets                            0\n",
       "anomaly                            0\n",
       "pkg_name                           0\n",
       "sha1                              16\n",
       "md5                               16\n",
       "permissions_count                  0\n",
       "dangerous_permissions_count        0\n",
       "dtype: int64"
      ]
     },
     "execution_count": 4,
     "metadata": {},
     "output_type": "execute_result"
    }
   ],
   "source": [
    "df.isnull().sum()"
   ]
  },
  {
   "cell_type": "code",
   "execution_count": 5,
   "id": "6617e044-41fa-4592-8fb2-cc5631520c8c",
   "metadata": {},
   "outputs": [
    {
     "data": {
      "text/plain": [
       "0.07755763774646544"
      ]
     },
     "execution_count": 5,
     "metadata": {},
     "output_type": "execute_result"
    }
   ],
   "source": [
    "df.isnull().sum().sum()/(df.shape[0]*df.shape[1])*100"
   ]
  },
  {
   "cell_type": "code",
   "execution_count": 6,
   "id": "aaefa09c-98f6-448b-a7e0-9fbbc28446ea",
   "metadata": {},
   "outputs": [
    {
     "data": {
      "text/plain": [
       "apk_size                       1048575\n",
       "dex_size                       1048575\n",
       "vercode                        1048440\n",
       "scan_date                      1035730\n",
       "activities_count               1048575\n",
       "services_count                 1048575\n",
       "certificate_expired            1048575\n",
       "suspicious_api_calls           1048575\n",
       "sha256                         1048575\n",
       "markets                        1048575\n",
       "anomaly                        1048575\n",
       "pkg_name                       1048575\n",
       "sha1                           1048559\n",
       "md5                            1048559\n",
       "permissions_count              1048575\n",
       "dangerous_permissions_count    1048575\n",
       "dtype: int64"
      ]
     },
     "execution_count": 6,
     "metadata": {},
     "output_type": "execute_result"
    }
   ],
   "source": [
    "df.notnull().sum()"
   ]
  },
  {
   "cell_type": "code",
   "execution_count": 7,
   "id": "3be15578-16ef-4796-a34b-92077c397f8d",
   "metadata": {},
   "outputs": [
    {
     "data": {
      "image/png": "[encoded data removed]",
      "text/plain": [
       "<Figure size 640x480 with 2 Axes>"
      ]
     },
     "metadata": {},
     "output_type": "display_data"
    }
   ],
   "source": [
    "sns.heatmap(df.isnull())\n",
    "plt.show()"
   ]
  },
  {
   "cell_type": "code",
   "execution_count": 8,
   "id": "7bcee6b9-1dd9-4d77-aef4-dda8beb88043",
   "metadata": {},
   "outputs": [
    {
     "name": "stdout",
     "output_type": "stream",
     "text": [
      "<class 'pandas.core.frame.DataFrame'>\n",
      "RangeIndex: 1048575 entries, 0 to 1048574\n",
      "Data columns (total 16 columns):\n",
      " #   Column                       Non-Null Count    Dtype  \n",
      "---  ------                       --------------    -----  \n",
      " 0   apk_size                     1048575 non-null  int64  \n",
      " 1   dex_size                     1048575 non-null  int64  \n",
      " 2   vercode                      1048440 non-null  float64\n",
      " 3   scan_date                    1035730 non-null  object \n",
      " 4   activities_count             1048575 non-null  int64  \n",
      " 5   services_count               1048575 non-null  int64  \n",
      " 6   certificate_expired          1048575 non-null  bool   \n",
      " 7   suspicious_api_calls         1048575 non-null  int64  \n",
      " 8   sha256                       1048575 non-null  object \n",
      " 9   markets                      1048575 non-null  object \n",
      " 10  anomaly                      1048575 non-null  int64  \n",
      " 11  pkg_name                     1048575 non-null  object \n",
      " 12  sha1                         1048559 non-null  object \n",
      " 13  md5                          1048559 non-null  object \n",
      " 14  permissions_count            1048575 non-null  int64  \n",
      " 15  dangerous_permissions_count  1048575 non-null  int64  \n",
      "dtypes: bool(1), float64(1), int64(8), object(6)\n",
      "memory usage: 121.0+ MB\n"
     ]
    }
   ],
   "source": [
    "df.info()"
   ]
  },
  {
   "cell_type": "code",
   "execution_count": 9,
   "id": "a36d84cf-a080-419a-b6aa-c044ec432981",
   "metadata": {},
   "outputs": [
    {
     "name": "stderr",
     "output_type": "stream",
     "text": [
      "C:\\Users\\karan\\AppData\\Local\\Temp\\ipykernel_17192\\3881227245.py:1: FutureWarning: A value is trying to be set on a copy of a DataFrame or Series through chained assignment using an inplace method.\n",
      "The behavior will change in pandas 3.0. This inplace method will never work because the intermediate object on which we are setting values always behaves as a copy.\n",
      "\n",
      "For example, when doing 'df[col].method(value, inplace=True)', try using 'df.method({col: value}, inplace=True)' or df[col] = df[col].method(value) instead, to perform the operation inplace on the original object.\n",
      "\n",
      "\n",
      "  df[\"scan_date\"].fillna(df[\"scan_date\"].mode()[0],inplace = True)\n"
     ]
    }
   ],
   "source": [
    "df[\"scan_date\"].fillna(df[\"scan_date\"].mode()[0],inplace = True)"
   ]
  },
  {
   "cell_type": "code",
   "execution_count": 10,
   "id": "b07eca5d-9558-4ea6-a413-9b883cdae216",
   "metadata": {},
   "outputs": [
    {
     "data": {
      "text/plain": [
       "apk_size                         0\n",
       "dex_size                         0\n",
       "vercode                        135\n",
       "scan_date                        0\n",
       "activities_count                 0\n",
       "services_count                   0\n",
       "certificate_expired              0\n",
       "suspicious_api_calls             0\n",
       "sha256                           0\n",
       "markets                          0\n",
       "anomaly                          0\n",
       "pkg_name                         0\n",
       "sha1                            16\n",
       "md5                             16\n",
       "permissions_count                0\n",
       "dangerous_permissions_count      0\n",
       "dtype: int64"
      ]
     },
     "execution_count": 10,
     "metadata": {},
     "output_type": "execute_result"
    }
   ],
   "source": [
    "df.isnull().sum()"
   ]
  },
  {
   "cell_type": "code",
   "execution_count": 11,
   "id": "ae2207ee-e108-4322-8b72-c6c30831281b",
   "metadata": {},
   "outputs": [
    {
     "name": "stderr",
     "output_type": "stream",
     "text": [
      "C:\\Users\\karan\\AppData\\Local\\Temp\\ipykernel_17192\\2406182722.py:1: FutureWarning: A value is trying to be set on a copy of a DataFrame or Series through chained assignment using an inplace method.\n",
      "The behavior will change in pandas 3.0. This inplace method will never work because the intermediate object on which we are setting values always behaves as a copy.\n",
      "\n",
      "For example, when doing 'df[col].method(value, inplace=True)', try using 'df.method({col: value}, inplace=True)' or df[col] = df[col].method(value) instead, to perform the operation inplace on the original object.\n",
      "\n",
      "\n",
      "  df[\"sha1\"].fillna(df[\"sha1\"].mode()[0],inplace = True)\n"
     ]
    }
   ],
   "source": [
    "df[\"sha1\"].fillna(df[\"sha1\"].mode()[0],inplace = True)"
   ]
  },
  {
   "cell_type": "code",
   "execution_count": 12,
   "id": "067794e3-b682-4ce8-9c24-c94ee18405a6",
   "metadata": {},
   "outputs": [
    {
     "name": "stderr",
     "output_type": "stream",
     "text": [
      "C:\\Users\\karan\\AppData\\Local\\Temp\\ipykernel_17192\\933395007.py:1: FutureWarning: A value is trying to be set on a copy of a DataFrame or Series through chained assignment using an inplace method.\n",
      "The behavior will change in pandas 3.0. This inplace method will never work because the intermediate object on which we are setting values always behaves as a copy.\n",
      "\n",
      "For example, when doing 'df[col].method(value, inplace=True)', try using 'df.method({col: value}, inplace=True)' or df[col] = df[col].method(value) instead, to perform the operation inplace on the original object.\n",
      "\n",
      "\n",
      "  df[\"md5\"].fillna(df[\"md5\"].mode()[0],inplace = True)\n"
     ]
    }
   ],
   "source": [
    "df[\"md5\"].fillna(df[\"md5\"].mode()[0],inplace = True)"
   ]
  },
  {
   "cell_type": "code",
   "execution_count": 13,
   "id": "b93b1cca-91f3-4a0e-b282-7fa57b50d8ff",
   "metadata": {},
   "outputs": [
    {
     "data": {
      "text/plain": [
       "apk_size                         0\n",
       "dex_size                         0\n",
       "vercode                        135\n",
       "scan_date                        0\n",
       "activities_count                 0\n",
       "services_count                   0\n",
       "certificate_expired              0\n",
       "suspicious_api_calls             0\n",
       "sha256                           0\n",
       "markets                          0\n",
       "anomaly                          0\n",
       "pkg_name                         0\n",
       "sha1                             0\n",
       "md5                              0\n",
       "permissions_count                0\n",
       "dangerous_permissions_count      0\n",
       "dtype: int64"
      ]
     },
     "execution_count": 13,
     "metadata": {},
     "output_type": "execute_result"
    }
   ],
   "source": [
    "df.isnull().sum()"
   ]
  },
  {
   "cell_type": "code",
   "execution_count": 14,
   "id": "6e429939-a01e-4f49-ac0e-5cfae0999530",
   "metadata": {},
   "outputs": [
    {
     "data": {
      "text/plain": [
       "Index(['apk_size', 'dex_size', 'vercode', 'scan_date', 'activities_count',\n",
       "       'services_count', 'certificate_expired', 'suspicious_api_calls',\n",
       "       'sha256', 'markets', 'anomaly', 'pkg_name', 'sha1', 'md5',\n",
       "       'permissions_count', 'dangerous_permissions_count'],\n",
       "      dtype='object')"
      ]
     },
     "execution_count": 14,
     "metadata": {},
     "output_type": "execute_result"
    }
   ],
   "source": [
    "df.columns"
   ]
  },
  {
   "cell_type": "code",
   "execution_count": 16,
   "id": "c9a50fbc-78f0-4349-b180-48a588e30168",
   "metadata": {},
   "outputs": [
    {
     "name": "stderr",
     "output_type": "stream",
     "text": [
      "C:\\Users\\karan\\AppData\\Local\\Temp\\ipykernel_17192\\1801346434.py:3: UserWarning: Parsing dates in %d-%m-%Y %H:%M format when dayfirst=False (the default) was specified. Pass `dayfirst=True` or specify a format to silence this warning.\n",
      "  df['scan_date'] = pd.to_datetime(df['scan_date'], errors='coerce')  # Convert to datetime\n"
     ]
    }
   ],
   "source": [
    "# Handle date-like fields\n",
    "reference_date = pd.Timestamp(\"1970-01-01\")\n",
    "df['scan_date'] = pd.to_datetime(df['scan_date'], errors='coerce')  # Convert to datetime\n",
    "df['scan_date'] = (df['scan_date'] - reference_date).dt.days"
   ]
  },
  {
   "cell_type": "markdown",
   "id": "60dd8374-7936-4953-910b-60c5a2dedbe5",
   "metadata": {},
   "source": [
    "# Selecting features for anomaly detection"
   ]
  },
  {
   "cell_type": "code",
   "execution_count": 17,
   "id": "c48b8e74-7403-4465-ac07-24db99eb2fb7",
   "metadata": {},
   "outputs": [],
   "source": [
    "# Define features for training\n",
    "features = [\n",
    "    \"apk_size\", \"dex_size\", \"vercode\", \"activities_count\",\n",
    "    \"services_count\", \"suspicious_api_calls\",\n",
    "    \"permissions_count\", \"dangerous_permissions_count\", \"scan_date\"\n",
    "]\n",
    "X = df[features]\n",
    "y = df[\"anomaly\"]  # Target variable"
   ]
  },
  {
   "cell_type": "code",
   "execution_count": 18,
   "id": "f420cddb-ebc3-4ced-a4f3-ce717e830864",
   "metadata": {},
   "outputs": [],
   "source": [
    "# Exclude non-numeric columns\n",
    "columns_to_exclude = ['sha256', 'sha1', 'md5', 'pkg_name', 'markets']\n",
    "X = df.drop(columns=columns_to_exclude + ['anomaly'])  # Remove target column and non-numeric columns\n",
    "y = df['anomaly']  # Target variable"
   ]
  },
  {
   "cell_type": "markdown",
   "id": "d07e822a-d27c-4a67-a139-7cf04c9801f5",
   "metadata": {},
   "source": [
    "# Handling missing values"
   ]
  },
  {
   "cell_type": "code",
   "execution_count": 19,
   "id": "032b3f39-86d4-4709-ac50-ede18e3324f4",
   "metadata": {},
   "outputs": [],
   "source": [
    "# Handle missing values\n",
    "imputer = SimpleImputer(strategy=\"mean\")\n",
    "X_imputed = imputer.fit_transform(X)"
   ]
  },
  {
   "cell_type": "code",
   "execution_count": 20,
   "id": "822b7a69-5df5-4692-b7c9-1aeccc602f54",
   "metadata": {},
   "outputs": [],
   "source": [
    "# Standardize the data\n",
    "scaler = StandardScaler()\n",
    "X_scaled = scaler.fit_transform(X_imputed)"
   ]
  },
  {
   "cell_type": "code",
   "execution_count": 21,
   "id": "b284be54-1f32-452a-9f09-a389955b739f",
   "metadata": {},
   "outputs": [],
   "source": [
    "# Impute missing values in X_scaled\n",
    "imputer = SimpleImputer(strategy=\"mean\")\n",
    "X_imputed = imputer.fit_transform(X_scaled)"
   ]
  },
  {
   "cell_type": "code",
   "execution_count": 22,
   "id": "cd77ed0b-f980-460a-9f6f-d7efddd73ed1",
   "metadata": {},
   "outputs": [
    {
     "name": "stdout",
     "output_type": "stream",
     "text": [
      "Shape of X_scaled: (1048575, 10)\n",
      "Sample data in X_scaled:\n",
      " [[-0.36661894 -0.34235796 -0.16171501 -1.23014351  0.35134869 -1.12861008\n",
      "  -1.00011349  1.21732398  0.14056222 -0.17476618]\n",
      " [-0.59450735 -0.81030578 -0.16171542 -1.08158484  1.33147175  1.12715996\n",
      "  -1.00011349  1.21732398  0.35268508  0.87093782]\n",
      " [ 1.03363532  0.95838044 -0.15704892  0.40212144  0.31634429 -1.12861008\n",
      "  -1.00011349 -0.52228596  1.48400699 -0.17476618]\n",
      " [-0.56912367 -0.50504205 -0.16167679 -0.72617231  1.01643219 -0.60804776\n",
      "  -1.00011349 -0.87020795 -1.62712827 -1.22047018]\n",
      " [-0.28102767  0.55132538 -0.1601674  -0.19117302  0.35134869 -0.78156854\n",
      "   0.99988652  0.17355802 -0.49580635 -1.56903817]]\n"
     ]
    }
   ],
   "source": [
    "# Ensure data is valid\n",
    "print(\"Shape of X_scaled:\", X_scaled.shape)\n",
    "print(\"Sample data in X_scaled:\\n\", X_scaled[:5])"
   ]
  },
  {
   "cell_type": "markdown",
   "id": "d5655f83-7535-40e5-99d3-786293ed927b",
   "metadata": {},
   "source": [
    "# Using isolation model"
   ]
  },
  {
   "cell_type": "code",
   "execution_count": 23,
   "id": "6260616a-32dc-4360-b336-706c7704357d",
   "metadata": {},
   "outputs": [],
   "source": [
    "# Split the dataset for evaluation (optional)\n",
    "X_train, X_test, y_train, y_test = train_test_split(X_scaled, y, test_size=0.2, random_state=42)"
   ]
  },
  {
   "cell_type": "code",
   "execution_count": 24,
   "id": "e3b30f75-973c-4eee-839f-8829a2c60960",
   "metadata": {},
   "outputs": [
    {
     "data": {
      "text/html": [
       "<style>#sk-container-id-1 {\n",
       "  /* Definition of color scheme common for light and dark mode */\n",
       "  --sklearn-color-text: black;\n",
       "  --sklearn-color-line: gray;\n",
       "  /* Definition of color scheme for unfitted estimators */\n",
       "  --sklearn-color-unfitted-level-0: #fff5e6;\n",
       "  --sklearn-color-unfitted-level-1: #f6e4d2;\n",
       "  --sklearn-color-unfitted-level-2: #ffe0b3;\n",
       "  --sklearn-color-unfitted-level-3: chocolate;\n",
       "  /* Definition of color scheme for fitted estimators */\n",
       "  --sklearn-color-fitted-level-0: #f0f8ff;\n",
       "  --sklearn-color-fitted-level-1: #d4ebff;\n",
       "  --sklearn-color-fitted-level-2: #b3dbfd;\n",
       "  --sklearn-color-fitted-level-3: cornflowerblue;\n",
       "\n",
       "  /* Specific color for light theme */\n",
       "  --sklearn-color-text-on-default-background: var(--sg-text-color, var(--theme-code-foreground, var(--jp-content-font-color1, black)));\n",
       "  --sklearn-color-background: var(--sg-background-color, var(--theme-background, var(--jp-layout-color0, white)));\n",
       "  --sklearn-color-border-box: var(--sg-text-color, var(--theme-code-foreground, var(--jp-content-font-color1, black)));\n",
       "  --sklearn-color-icon: #696969;\n",
       "\n",
       "  @media (prefers-color-scheme: dark) {\n",
       "    /* Redefinition of color scheme for dark theme */\n",
       "    --sklearn-color-text-on-default-background: var(--sg-text-color, var(--theme-code-foreground, var(--jp-content-font-color1, white)));\n",
       "    --sklearn-color-background: var(--sg-background-color, var(--theme-background, var(--jp-layout-color0, #111)));\n",
       "    --sklearn-color-border-box: var(--sg-text-color, var(--theme-code-foreground, var(--jp-content-font-color1, white)));\n",
       "    --sklearn-color-icon: #878787;\n",
       "  }\n",
       "}\n",
       "\n",
       "#sk-container-id-1 {\n",
       "  color: var(--sklearn-color-text);\n",
       "}\n",
       "\n",
       "#sk-container-id-1 pre {\n",
       "  padding: 0;\n",
       "}\n",
       "\n",
       "#sk-container-id-1 input.sk-hidden--visually {\n",
       "  border: 0;\n",
       "  clip: rect(1px 1px 1px 1px);\n",
       "  clip: rect(1px, 1px, 1px, 1px);\n",
       "  height: 1px;\n",
       "  margin: -1px;\n",
       "  overflow: hidden;\n",
       "  padding: 0;\n",
       "  position: absolute;\n",
       "  width: 1px;\n",
       "}\n",
       "\n",
       "#sk-container-id-1 div.sk-dashed-wrapped {\n",
       "  border: 1px dashed var(--sklearn-color-line);\n",
       "  margin: 0 0.4em 0.5em 0.4em;\n",
       "  box-sizing: border-box;\n",
       "  padding-bottom: 0.4em;\n",
       "  background-color: var(--sklearn-color-background);\n",
       "}\n",
       "\n",
       "#sk-container-id-1 div.sk-container {\n",
       "  /* jupyter's `normalize.less` sets `[hidden] { display: none; }`\n",
       "     but bootstrap.min.css set `[hidden] { display: none !important; }`\n",
       "     so we also need the `!important` here to be able to override the\n",
       "     default hidden behavior on the sphinx rendered scikit-learn.org.\n",
       "     See: https://github.com/scikit-learn/scikit-learn/issues/21755 */\n",
       "  display: inline-block !important;\n",
       "  position: relative;\n",
       "}\n",
       "\n",
       "#sk-container-id-1 div.sk-text-repr-fallback {\n",
       "  display: none;\n",
       "}\n",
       "\n",
       "div.sk-parallel-item,\n",
       "div.sk-serial,\n",
       "div.sk-item {\n",
       "  /* draw centered vertical line to link estimators */\n",
       "  background-image: linear-gradient(var(--sklearn-color-text-on-default-background), var(--sklearn-color-text-on-default-background));\n",
       "  background-size: 2px 100%;\n",
       "  background-repeat: no-repeat;\n",
       "  background-position: center center;\n",
       "}\n",
       "\n",
       "/* Parallel-specific style estimator block */\n",
       "\n",
       "#sk-container-id-1 div.sk-parallel-item::after {\n",
       "  content: \"\";\n",
       "  width: 100%;\n",
       "  border-bottom: 2px solid var(--sklearn-color-text-on-default-background);\n",
       "  flex-grow: 1;\n",
       "}\n",
       "\n",
       "#sk-container-id-1 div.sk-parallel {\n",
       "  display: flex;\n",
       "  align-items: stretch;\n",
       "  justify-content: center;\n",
       "  background-color: var(--sklearn-color-background);\n",
       "  position: relative;\n",
       "}\n",
       "\n",
       "#sk-container-id-1 div.sk-parallel-item {\n",
       "  display: flex;\n",
       "  flex-direction: column;\n",
       "}\n",
       "\n",
       "#sk-container-id-1 div.sk-parallel-item:first-child::after {\n",
       "  align-self: flex-end;\n",
       "  width: 50%;\n",
       "}\n",
       "\n",
       "#sk-container-id-1 div.sk-parallel-item:last-child::after {\n",
       "  align-self: flex-start;\n",
       "  width: 50%;\n",
       "}\n",
       "\n",
       "#sk-container-id-1 div.sk-parallel-item:only-child::after {\n",
       "  width: 0;\n",
       "}\n",
       "\n",
       "/* Serial-specific style estimator block */\n",
       "\n",
       "#sk-container-id-1 div.sk-serial {\n",
       "  display: flex;\n",
       "  flex-direction: column;\n",
       "  align-items: center;\n",
       "  background-color: var(--sklearn-color-background);\n",
       "  padding-right: 1em;\n",
       "  padding-left: 1em;\n",
       "}\n",
       "\n",
       "\n",
       "/* Toggleable style: style used for estimator/Pipeline/ColumnTransformer box that is\n",
       "clickable and can be expanded/collapsed.\n",
       "- Pipeline and ColumnTransformer use this feature and define the default style\n",
       "- Estimators will overwrite some part of the style using the `sk-estimator` class\n",
       "*/\n",
       "\n",
       "/* Pipeline and ColumnTransformer style (default) */\n",
       "\n",
       "#sk-container-id-1 div.sk-toggleable {\n",
       "  /* Default theme specific background. It is overwritten whether we have a\n",
       "  specific estimator or a Pipeline/ColumnTransformer */\n",
       "  background-color: var(--sklearn-color-background);\n",
       "}\n",
       "\n",
       "/* Toggleable label */\n",
       "#sk-container-id-1 label.sk-toggleable__label {\n",
       "  cursor: pointer;\n",
       "  display: block;\n",
       "  width: 100%;\n",
       "  margin-bottom: 0;\n",
       "  padding: 0.5em;\n",
       "  box-sizing: border-box;\n",
       "  text-align: center;\n",
       "}\n",
       "\n",
       "#sk-container-id-1 label.sk-toggleable__label-arrow:before {\n",
       "  /* Arrow on the left of the label */\n",
       "  content: \"▸\";\n",
       "  float: left;\n",
       "  margin-right: 0.25em;\n",
       "  color: var(--sklearn-color-icon);\n",
       "}\n",
       "\n",
       "#sk-container-id-1 label.sk-toggleable__label-arrow:hover:before {\n",
       "  color: var(--sklearn-color-text);\n",
       "}\n",
       "\n",
       "/* Toggleable content - dropdown */\n",
       "\n",
       "#sk-container-id-1 div.sk-toggleable__content {\n",
       "  max-height: 0;\n",
       "  max-width: 0;\n",
       "  overflow: hidden;\n",
       "  text-align: left;\n",
       "  /* unfitted */\n",
       "  background-color: var(--sklearn-color-unfitted-level-0);\n",
       "}\n",
       "\n",
       "#sk-container-id-1 div.sk-toggleable__content.fitted {\n",
       "  /* fitted */\n",
       "  background-color: var(--sklearn-color-fitted-level-0);\n",
       "}\n",
       "\n",
       "#sk-container-id-1 div.sk-toggleable__content pre {\n",
       "  margin: 0.2em;\n",
       "  border-radius: 0.25em;\n",
       "  color: var(--sklearn-color-text);\n",
       "  /* unfitted */\n",
       "  background-color: var(--sklearn-color-unfitted-level-0);\n",
       "}\n",
       "\n",
       "#sk-container-id-1 div.sk-toggleable__content.fitted pre {\n",
       "  /* unfitted */\n",
       "  background-color: var(--sklearn-color-fitted-level-0);\n",
       "}\n",
       "\n",
       "#sk-container-id-1 input.sk-toggleable__control:checked~div.sk-toggleable__content {\n",
       "  /* Expand drop-down */\n",
       "  max-height: 200px;\n",
       "  max-width: 100%;\n",
       "  overflow: auto;\n",
       "}\n",
       "\n",
       "#sk-container-id-1 input.sk-toggleable__control:checked~label.sk-toggleable__label-arrow:before {\n",
       "  content: \"▾\";\n",
       "}\n",
       "\n",
       "/* Pipeline/ColumnTransformer-specific style */\n",
       "\n",
       "#sk-container-id-1 div.sk-label input.sk-toggleable__control:checked~label.sk-toggleable__label {\n",
       "  color: var(--sklearn-color-text);\n",
       "  background-color: var(--sklearn-color-unfitted-level-2);\n",
       "}\n",
       "\n",
       "#sk-container-id-1 div.sk-label.fitted input.sk-toggleable__control:checked~label.sk-toggleable__label {\n",
       "  background-color: var(--sklearn-color-fitted-level-2);\n",
       "}\n",
       "\n",
       "/* Estimator-specific style */\n",
       "\n",
       "/* Colorize estimator box */\n",
       "#sk-container-id-1 div.sk-estimator input.sk-toggleable__control:checked~label.sk-toggleable__label {\n",
       "  /* unfitted */\n",
       "  background-color: var(--sklearn-color-unfitted-level-2);\n",
       "}\n",
       "\n",
       "#sk-container-id-1 div.sk-estimator.fitted input.sk-toggleable__control:checked~label.sk-toggleable__label {\n",
       "  /* fitted */\n",
       "  background-color: var(--sklearn-color-fitted-level-2);\n",
       "}\n",
       "\n",
       "#sk-container-id-1 div.sk-label label.sk-toggleable__label,\n",
       "#sk-container-id-1 div.sk-label label {\n",
       "  /* The background is the default theme color */\n",
       "  color: var(--sklearn-color-text-on-default-background);\n",
       "}\n",
       "\n",
       "/* On hover, darken the color of the background */\n",
       "#sk-container-id-1 div.sk-label:hover label.sk-toggleable__label {\n",
       "  color: var(--sklearn-color-text);\n",
       "  background-color: var(--sklearn-color-unfitted-level-2);\n",
       "}\n",
       "\n",
       "/* Label box, darken color on hover, fitted */\n",
       "#sk-container-id-1 div.sk-label.fitted:hover label.sk-toggleable__label.fitted {\n",
       "  color: var(--sklearn-color-text);\n",
       "  background-color: var(--sklearn-color-fitted-level-2);\n",
       "}\n",
       "\n",
       "/* Estimator label */\n",
       "\n",
       "#sk-container-id-1 div.sk-label label {\n",
       "  font-family: monospace;\n",
       "  font-weight: bold;\n",
       "  display: inline-block;\n",
       "  line-height: 1.2em;\n",
       "}\n",
       "\n",
       "#sk-container-id-1 div.sk-label-container {\n",
       "  text-align: center;\n",
       "}\n",
       "\n",
       "/* Estimator-specific */\n",
       "#sk-container-id-1 div.sk-estimator {\n",
       "  font-family: monospace;\n",
       "  border: 1px dotted var(--sklearn-color-border-box);\n",
       "  border-radius: 0.25em;\n",
       "  box-sizing: border-box;\n",
       "  margin-bottom: 0.5em;\n",
       "  /* unfitted */\n",
       "  background-color: var(--sklearn-color-unfitted-level-0);\n",
       "}\n",
       "\n",
       "#sk-container-id-1 div.sk-estimator.fitted {\n",
       "  /* fitted */\n",
       "  background-color: var(--sklearn-color-fitted-level-0);\n",
       "}\n",
       "\n",
       "/* on hover */\n",
       "#sk-container-id-1 div.sk-estimator:hover {\n",
       "  /* unfitted */\n",
       "  background-color: var(--sklearn-color-unfitted-level-2);\n",
       "}\n",
       "\n",
       "#sk-container-id-1 div.sk-estimator.fitted:hover {\n",
       "  /* fitted */\n",
       "  background-color: var(--sklearn-color-fitted-level-2);\n",
       "}\n",
       "\n",
       "/* Specification for estimator info (e.g. \"i\" and \"?\") */\n",
       "\n",
       "/* Common style for \"i\" and \"?\" */\n",
       "\n",
       ".sk-estimator-doc-link,\n",
       "a:link.sk-estimator-doc-link,\n",
       "a:visited.sk-estimator-doc-link {\n",
       "  float: right;\n",
       "  font-size: smaller;\n",
       "  line-height: 1em;\n",
       "  font-family: monospace;\n",
       "  background-color: var(--sklearn-color-background);\n",
       "  border-radius: 1em;\n",
       "  height: 1em;\n",
       "  width: 1em;\n",
       "  text-decoration: none !important;\n",
       "  margin-left: 1ex;\n",
       "  /* unfitted */\n",
       "  border: var(--sklearn-color-unfitted-level-1) 1pt solid;\n",
       "  color: var(--sklearn-color-unfitted-level-1);\n",
       "}\n",
       "\n",
       ".sk-estimator-doc-link.fitted,\n",
       "a:link.sk-estimator-doc-link.fitted,\n",
       "a:visited.sk-estimator-doc-link.fitted {\n",
       "  /* fitted */\n",
       "  border: var(--sklearn-color-fitted-level-1) 1pt solid;\n",
       "  color: var(--sklearn-color-fitted-level-1);\n",
       "}\n",
       "\n",
       "/* On hover */\n",
       "div.sk-estimator:hover .sk-estimator-doc-link:hover,\n",
       ".sk-estimator-doc-link:hover,\n",
       "div.sk-label-container:hover .sk-estimator-doc-link:hover,\n",
       ".sk-estimator-doc-link:hover {\n",
       "  /* unfitted */\n",
       "  background-color: var(--sklearn-color-unfitted-level-3);\n",
       "  color: var(--sklearn-color-background);\n",
       "  text-decoration: none;\n",
       "}\n",
       "\n",
       "div.sk-estimator.fitted:hover .sk-estimator-doc-link.fitted:hover,\n",
       ".sk-estimator-doc-link.fitted:hover,\n",
       "div.sk-label-container:hover .sk-estimator-doc-link.fitted:hover,\n",
       ".sk-estimator-doc-link.fitted:hover {\n",
       "  /* fitted */\n",
       "  background-color: var(--sklearn-color-fitted-level-3);\n",
       "  color: var(--sklearn-color-background);\n",
       "  text-decoration: none;\n",
       "}\n",
       "\n",
       "/* Span, style for the box shown on hovering the info icon */\n",
       ".sk-estimator-doc-link span {\n",
       "  display: none;\n",
       "  z-index: 9999;\n",
       "  position: relative;\n",
       "  font-weight: normal;\n",
       "  right: .2ex;\n",
       "  padding: .5ex;\n",
       "  margin: .5ex;\n",
       "  width: min-content;\n",
       "  min-width: 20ex;\n",
       "  max-width: 50ex;\n",
       "  color: var(--sklearn-color-text);\n",
       "  box-shadow: 2pt 2pt 4pt #999;\n",
       "  /* unfitted */\n",
       "  background: var(--sklearn-color-unfitted-level-0);\n",
       "  border: .5pt solid var(--sklearn-color-unfitted-level-3);\n",
       "}\n",
       "\n",
       ".sk-estimator-doc-link.fitted span {\n",
       "  /* fitted */\n",
       "  background: var(--sklearn-color-fitted-level-0);\n",
       "  border: var(--sklearn-color-fitted-level-3);\n",
       "}\n",
       "\n",
       ".sk-estimator-doc-link:hover span {\n",
       "  display: block;\n",
       "}\n",
       "\n",
       "/* \"?\"-specific style due to the `<a>` HTML tag */\n",
       "\n",
       "#sk-container-id-1 a.estimator_doc_link {\n",
       "  float: right;\n",
       "  font-size: 1rem;\n",
       "  line-height: 1em;\n",
       "  font-family: monospace;\n",
       "  background-color: var(--sklearn-color-background);\n",
       "  border-radius: 1rem;\n",
       "  height: 1rem;\n",
       "  width: 1rem;\n",
       "  text-decoration: none;\n",
       "  /* unfitted */\n",
       "  color: var(--sklearn-color-unfitted-level-1);\n",
       "  border: var(--sklearn-color-unfitted-level-1) 1pt solid;\n",
       "}\n",
       "\n",
       "#sk-container-id-1 a.estimator_doc_link.fitted {\n",
       "  /* fitted */\n",
       "  border: var(--sklearn-color-fitted-level-1) 1pt solid;\n",
       "  color: var(--sklearn-color-fitted-level-1);\n",
       "}\n",
       "\n",
       "/* On hover */\n",
       "#sk-container-id-1 a.estimator_doc_link:hover {\n",
       "  /* unfitted */\n",
       "  background-color: var(--sklearn-color-unfitted-level-3);\n",
       "  color: var(--sklearn-color-background);\n",
       "  text-decoration: none;\n",
       "}\n",
       "\n",
       "#sk-container-id-1 a.estimator_doc_link.fitted:hover {\n",
       "  /* fitted */\n",
       "  background-color: var(--sklearn-color-fitted-level-3);\n",
       "}\n",
       "</style><div id=\"sk-container-id-1\" class=\"sk-top-container\"><div class=\"sk-text-repr-fallback\"><pre>IsolationForest(contamination=0.1, random_state=42)</pre><b>In a Jupyter environment, please rerun this cell to show the HTML representation or trust the notebook. <br />On GitHub, the HTML representation is unable to render, please try loading this page with nbviewer.org.</b></div><div class=\"sk-container\" hidden><div class=\"sk-item\"><div class=\"sk-estimator fitted sk-toggleable\"><input class=\"sk-toggleable__control sk-hidden--visually\" id=\"sk-estimator-id-1\" type=\"checkbox\" checked><label for=\"sk-estimator-id-1\" class=\"sk-toggleable__label fitted sk-toggleable__label-arrow fitted\">&nbsp;&nbsp;IsolationForest<a class=\"sk-estimator-doc-link fitted\" rel=\"noreferrer\" target=\"_blank\" href=\"https://scikit-learn.org/1.5/modules/generated/sklearn.ensemble.IsolationForest.html\">?<span>Documentation for IsolationForest</span></a><span class=\"sk-estimator-doc-link fitted\">i<span>Fitted</span></span></label><div class=\"sk-toggleable__content fitted\"><pre>IsolationForest(contamination=0.1, random_state=42)</pre></div> </div></div></div></div>"
      ],
      "text/plain": [
       "IsolationForest(contamination=0.1, random_state=42)"
      ]
     },
     "execution_count": 24,
     "metadata": {},
     "output_type": "execute_result"
    }
   ],
   "source": [
    "# Train the Isolation Forest model\n",
    "model = IsolationForest(n_estimators=100, contamination=0.1, random_state=42)\n",
    "model.fit(X_train)"
   ]
  },
  {
   "cell_type": "markdown",
   "id": "063945de-176f-4de4-b953-f55f771b7446",
   "metadata": {},
   "source": [
    "# predict anamoly 0 for normal and 1 for anomalous"
   ]
  },
  {
   "cell_type": "code",
   "execution_count": 25,
   "id": "3ec0cc04-cd2d-4473-9cb2-98208196149a",
   "metadata": {},
   "outputs": [],
   "source": [
    "# Predict anomalies on the test set\n",
    "y_pred = model.predict(X_test)\n",
    "y_pred_binary = np.where(y_pred == -1, 1, 0)"
   ]
  },
  {
   "cell_type": "code",
   "execution_count": 26,
   "id": "850bcbcb-27b1-43ef-b69c-5b0ce0c0962d",
   "metadata": {},
   "outputs": [
    {
     "name": "stdout",
     "output_type": "stream",
     "text": [
      "Model Accuracy: 0.85\n",
      "\n",
      "Classification Report:\n",
      "              precision    recall  f1-score   support\n",
      "\n",
      "           0       0.90      0.93      0.92    183554\n",
      "           1       0.39      0.31      0.34     26161\n",
      "\n",
      "    accuracy                           0.85    209715\n",
      "   macro avg       0.64      0.62      0.63    209715\n",
      "weighted avg       0.84      0.85      0.85    209715\n",
      "\n"
     ]
    }
   ],
   "source": [
    "# Evaluate the model\n",
    "accuracy = accuracy_score(y_test, y_pred_binary)\n",
    "print(f\"Model Accuracy: {accuracy:.2f}\")\n",
    "print(\"\\nClassification Report:\")\n",
    "print(classification_report(y_test, y_pred_binary))"
   ]
  },
  {
   "cell_type": "markdown",
   "id": "cb1f2f8a-f0cf-4bde-a747-ec62ce845c2f",
   "metadata": {},
   "source": [
    "# Confusion Matrix"
   ]
  },
  {
   "cell_type": "code",
   "execution_count": 27,
   "id": "7614d612-208b-46a0-86ad-4cca205304b9",
   "metadata": {},
   "outputs": [
    {
     "name": "stdout",
     "output_type": "stream",
     "text": [
      "\n",
      "Confusion Matrix:\n",
      "[[170602  12952]\n",
      " [ 18051   8110]]\n"
     ]
    }
   ],
   "source": [
    "conf_matrix = confusion_matrix(y_test, y_pred_binary)\n",
    "print(\"\\nConfusion Matrix:\")\n",
    "print(conf_matrix)"
   ]
  },
  {
   "cell_type": "code",
   "execution_count": 28,
   "id": "a86a0310-8b1b-441d-b516-5f20b86c28cb",
   "metadata": {},
   "outputs": [
    {
     "data": {
      "image/png": "[encoded data removed]",
      "text/plain": [
       "<Figure size 600x600 with 2 Axes>"
      ]
     },
     "metadata": {},
     "output_type": "display_data"
    }
   ],
   "source": [
    "# Plot Confusion Matrix\n",
    "plt.figure(figsize=(6, 6))\n",
    "sns.heatmap(conf_matrix, annot=True, fmt=\"d\", cmap=\"Blues\", xticklabels=[\"Normal\", \"Anomalous\"], yticklabels=[\"Normal\", \"Anomalous\"])\n",
    "plt.xlabel(\"Predicted\")\n",
    "plt.ylabel(\"True\")\n",
    "plt.title(\"Confusion Matrix\")\n",
    "plt.show()"
   ]
  },
  {
   "cell_type": "markdown",
   "id": "be048515-2fd5-4ad5-8281-1084c45ebdf2",
   "metadata": {},
   "source": [
    "# Saving the model"
   ]
  },
  {
   "cell_type": "code",
   "execution_count": 29,
   "id": "e815e0da-15dc-4c25-b6bb-3dfab1cdc337",
   "metadata": {},
   "outputs": [
    {
     "data": {
      "text/plain": [
       "['imputer.pkl']"
      ]
     },
     "execution_count": 29,
     "metadata": {},
     "output_type": "execute_result"
    }
   ],
   "source": [
    "# Save the trained model and scaler\n",
    "joblib.dump(model, \"anomaly_detection_model.pkl\")\n",
    "joblib.dump(scaler, \"scaler.pkl\")\n",
    "joblib.dump(imputer, \"imputer.pkl\")"
   ]
  },
  {
   "cell_type": "code",
   "execution_count": null,
   "id": "953aadbb-2ffc-4be5-8835-37387ef963ca",
   "metadata": {},
   "outputs": [],
   "source": []
  }
 ],
 "metadata": {
  "kernelspec": {
   "display_name": "Python 3 (ipykernel)",
   "language": "python",
   "name": "python3"
  },
  "language_info": {
   "codemirror_mode": {
    "name": "ipython",
    "version": 3
   },
   "file_extension": ".py",
   "mimetype": "text/x-python",
   "name": "python",
   "nbconvert_exporter": "python",
   "pygments_lexer": "ipython3",
   "version": "3.11.0"
  }
 },
 "nbformat": 4,
 "nbformat_minor": 5
}
